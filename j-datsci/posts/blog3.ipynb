{
 "cells": [
  {
   "cell_type": "markdown",
   "metadata": {},
   "source": [
    "title"
   ]
  },
  {
   "cell_type": "markdown",
   "metadata": {},
   "source": [
    "introduction:\n",
    "- people are inclined to believe something if there's numbers involved\n",
    "- but numbers are way too easy to change to fit your own narrative"
   ]
  },
  {
   "cell_type": "markdown",
   "metadata": {},
   "source": [
    "example/explain:\n",
    "- working on a labeled dataset. titanic is historical so we know exactly what each person is classified as\n",
    "- explain what the code is doing. keep it simple"
   ]
  },
  {
   "cell_type": "code",
   "execution_count": null,
   "metadata": {},
   "outputs": [],
   "source": [
    "# train/test split 80/20\n",
    "# decision tree to keep it simple and provide visual\n",
    "# predicting if a passenger survived or died \n",
    "# use only gender and pclass"
   ]
  },
  {
   "cell_type": "markdown",
   "metadata": {},
   "source": [
    "briefly explain how the tree worked, what metrics were looking at"
   ]
  },
  {
   "cell_type": "code",
   "execution_count": null,
   "metadata": {},
   "outputs": [],
   "source": [
    "# print accuracy, precision, recall and f-1"
   ]
  },
  {
   "cell_type": "markdown",
   "metadata": {},
   "source": [
    "explain conf. matrix, tp/fp, etc. were discussing impact of those later"
   ]
  },
  {
   "cell_type": "code",
   "execution_count": null,
   "metadata": {},
   "outputs": [],
   "source": [
    "# conf matrix"
   ]
  },
  {
   "cell_type": "markdown",
   "metadata": {},
   "source": [
    "issues:\n",
    "- despite using 'pure' data, where we know the answers, the predictor model is not 100% accurate because errors are going to happen no matter what\n",
    "- this alone is enough to be skeptical of peoples numbers\n",
    "- but it can get so much worse too"
   ]
  },
  {
   "cell_type": "markdown",
   "metadata": {},
   "source": [
    "introduce falsifying data\n",
    "- now say the titanic happened today, and we work for a news outlet that wants to push the idea that the famous line 'women and children' was true, regardless of class/ticket\n",
    "- the real data did not look good for this claim, or we want it to look even better\n",
    "- so i'll edit the data to show all women survived the crash"
   ]
  },
  {
   "cell_type": "code",
   "execution_count": null,
   "metadata": {},
   "outputs": [],
   "source": [
    "# edit the column survived on a new df"
   ]
  },
  {
   "cell_type": "markdown",
   "metadata": {},
   "source": [
    "now we'll run the same decision tree, same parameters, on our edited dataset\n"
   ]
  },
  {
   "cell_type": "code",
   "execution_count": null,
   "metadata": {},
   "outputs": [],
   "source": [
    "# run model\n",
    "# print same metrics"
   ]
  },
  {
   "cell_type": "markdown",
   "metadata": {},
   "source": [
    "- changes the results completely\n",
    "- pushes our narrative\n",
    "- took 2 seconds to change the entire story"
   ]
  },
  {
   "cell_type": "markdown",
   "metadata": {},
   "source": [
    "- for this demonstration we know its not true, and its historical data so changing results doesn't really have an impact\n",
    "- but say we instead worked for an insurance company, and we were told to decrease the amount paid out on claims. or we worked in sales and our boss asked us to make the sales figures look better.\n",
    "- then it actually impacts people. claims who really need it are rejected and the boss looks good on paper while the business is actually failing\n",
    "- it becomes the ethical responsibility of data scientists to uphold truthful data and results"
   ]
  },
  {
   "cell_type": "markdown",
   "metadata": {},
   "source": [
    "- need to ensure the data source is good\n",
    "    - reference the LA police deployment issue"
   ]
  },
  {
   "cell_type": "code",
   "execution_count": null,
   "metadata": {},
   "outputs": [],
   "source": [
    "# breifly show code here if you can find the dataset/link to an article about it to break up the text"
   ]
  },
  {
   "cell_type": "markdown",
   "metadata": {},
   "source": [
    "- it is unethical to change the data for your own gain\n",
    "- causes issues in real life, rapid spread of misinformation\n",
    "- not only an issue with numbers, but journalism have had this issue forever. numbers just make it more believeable"
   ]
  },
  {
   "cell_type": "markdown",
   "metadata": {},
   "source": [
    "- also the NEW responsibility of people today, especially online, to be wary of the numbers/data because its not always true\n",
    "- need to watch for the source of the data, the scale in how its displayed, what its being compared to, etc\n",
    "- all too easy to make stuff up, to safely navigate the internet people need to understand this\n",
    "- data scientist job to not make it any harder on people"
   ]
  }
 ],
 "metadata": {
  "kernelspec": {
   "display_name": "blog3",
   "language": "python",
   "name": "python3"
  },
  "language_info": {
   "name": "python",
   "version": "3.11.10"
  }
 },
 "nbformat": 4,
 "nbformat_minor": 2
}
